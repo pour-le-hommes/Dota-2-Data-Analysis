{
 "cells": [
  {
   "cell_type": "code",
   "execution_count": 170,
   "id": "6ad95938",
   "metadata": {},
   "outputs": [],
   "source": [
    "import pandas as pd\n",
    "import numpy as np\n",
    "from tqdm import tqdm\n",
    "import matplotlib.pyplot as plt"
   ]
  },
  {
   "cell_type": "markdown",
   "id": "d6fb0e19",
   "metadata": {},
   "source": [
    "# Training Data Default"
   ]
  },
  {
   "cell_type": "code",
   "execution_count": 171,
   "id": "a6f76444",
   "metadata": {},
   "outputs": [],
   "source": [
    "players = pd.read_csv(\"Data/players.csv\")\n",
    "match = pd.read_csv(\"Data/match.csv\")"
   ]
  },
  {
   "cell_type": "code",
   "execution_count": 172,
   "id": "f1fb1120",
   "metadata": {},
   "outputs": [
    {
     "data": {
      "text/html": [
       "<div>\n",
       "<style scoped>\n",
       "    .dataframe tbody tr th:only-of-type {\n",
       "        vertical-align: middle;\n",
       "    }\n",
       "\n",
       "    .dataframe tbody tr th {\n",
       "        vertical-align: top;\n",
       "    }\n",
       "\n",
       "    .dataframe thead th {\n",
       "        text-align: right;\n",
       "    }\n",
       "</style>\n",
       "<table border=\"1\" class=\"dataframe\">\n",
       "  <thead>\n",
       "    <tr style=\"text-align: right;\">\n",
       "      <th></th>\n",
       "      <th>match_id</th>\n",
       "      <th>account_id</th>\n",
       "      <th>hero_id</th>\n",
       "      <th>player_slot</th>\n",
       "      <th>gold</th>\n",
       "      <th>gold_spent</th>\n",
       "      <th>gold_per_min</th>\n",
       "      <th>xp_per_min</th>\n",
       "      <th>kills</th>\n",
       "      <th>deaths</th>\n",
       "      <th>...</th>\n",
       "      <th>unit_order_glyph</th>\n",
       "      <th>unit_order_eject_item_from_stash</th>\n",
       "      <th>unit_order_cast_rune</th>\n",
       "      <th>unit_order_ping_ability</th>\n",
       "      <th>unit_order_move_to_direction</th>\n",
       "      <th>unit_order_patrol</th>\n",
       "      <th>unit_order_vector_target_position</th>\n",
       "      <th>unit_order_radar</th>\n",
       "      <th>unit_order_set_item_combine_lock</th>\n",
       "      <th>unit_order_continue</th>\n",
       "    </tr>\n",
       "  </thead>\n",
       "  <tbody>\n",
       "    <tr>\n",
       "      <th>0</th>\n",
       "      <td>0</td>\n",
       "      <td>0</td>\n",
       "      <td>86</td>\n",
       "      <td>0</td>\n",
       "      <td>3261</td>\n",
       "      <td>10960</td>\n",
       "      <td>347</td>\n",
       "      <td>362</td>\n",
       "      <td>9</td>\n",
       "      <td>3</td>\n",
       "      <td>...</td>\n",
       "      <td>NaN</td>\n",
       "      <td>NaN</td>\n",
       "      <td>NaN</td>\n",
       "      <td>6.0</td>\n",
       "      <td>NaN</td>\n",
       "      <td>NaN</td>\n",
       "      <td>NaN</td>\n",
       "      <td>NaN</td>\n",
       "      <td>NaN</td>\n",
       "      <td>NaN</td>\n",
       "    </tr>\n",
       "    <tr>\n",
       "      <th>1</th>\n",
       "      <td>0</td>\n",
       "      <td>1</td>\n",
       "      <td>51</td>\n",
       "      <td>1</td>\n",
       "      <td>2954</td>\n",
       "      <td>17760</td>\n",
       "      <td>494</td>\n",
       "      <td>659</td>\n",
       "      <td>13</td>\n",
       "      <td>3</td>\n",
       "      <td>...</td>\n",
       "      <td>NaN</td>\n",
       "      <td>NaN</td>\n",
       "      <td>NaN</td>\n",
       "      <td>14.0</td>\n",
       "      <td>NaN</td>\n",
       "      <td>NaN</td>\n",
       "      <td>NaN</td>\n",
       "      <td>NaN</td>\n",
       "      <td>NaN</td>\n",
       "      <td>NaN</td>\n",
       "    </tr>\n",
       "    <tr>\n",
       "      <th>2</th>\n",
       "      <td>0</td>\n",
       "      <td>0</td>\n",
       "      <td>83</td>\n",
       "      <td>2</td>\n",
       "      <td>110</td>\n",
       "      <td>12195</td>\n",
       "      <td>350</td>\n",
       "      <td>385</td>\n",
       "      <td>0</td>\n",
       "      <td>4</td>\n",
       "      <td>...</td>\n",
       "      <td>NaN</td>\n",
       "      <td>NaN</td>\n",
       "      <td>NaN</td>\n",
       "      <td>17.0</td>\n",
       "      <td>NaN</td>\n",
       "      <td>NaN</td>\n",
       "      <td>NaN</td>\n",
       "      <td>NaN</td>\n",
       "      <td>NaN</td>\n",
       "      <td>NaN</td>\n",
       "    </tr>\n",
       "    <tr>\n",
       "      <th>3</th>\n",
       "      <td>0</td>\n",
       "      <td>2</td>\n",
       "      <td>11</td>\n",
       "      <td>3</td>\n",
       "      <td>1179</td>\n",
       "      <td>22505</td>\n",
       "      <td>599</td>\n",
       "      <td>605</td>\n",
       "      <td>8</td>\n",
       "      <td>4</td>\n",
       "      <td>...</td>\n",
       "      <td>1.0</td>\n",
       "      <td>NaN</td>\n",
       "      <td>NaN</td>\n",
       "      <td>13.0</td>\n",
       "      <td>NaN</td>\n",
       "      <td>NaN</td>\n",
       "      <td>NaN</td>\n",
       "      <td>NaN</td>\n",
       "      <td>NaN</td>\n",
       "      <td>NaN</td>\n",
       "    </tr>\n",
       "    <tr>\n",
       "      <th>4</th>\n",
       "      <td>0</td>\n",
       "      <td>3</td>\n",
       "      <td>67</td>\n",
       "      <td>4</td>\n",
       "      <td>3307</td>\n",
       "      <td>23825</td>\n",
       "      <td>613</td>\n",
       "      <td>762</td>\n",
       "      <td>20</td>\n",
       "      <td>3</td>\n",
       "      <td>...</td>\n",
       "      <td>3.0</td>\n",
       "      <td>NaN</td>\n",
       "      <td>NaN</td>\n",
       "      <td>23.0</td>\n",
       "      <td>NaN</td>\n",
       "      <td>NaN</td>\n",
       "      <td>NaN</td>\n",
       "      <td>NaN</td>\n",
       "      <td>NaN</td>\n",
       "      <td>NaN</td>\n",
       "    </tr>\n",
       "    <tr>\n",
       "      <th>...</th>\n",
       "      <td>...</td>\n",
       "      <td>...</td>\n",
       "      <td>...</td>\n",
       "      <td>...</td>\n",
       "      <td>...</td>\n",
       "      <td>...</td>\n",
       "      <td>...</td>\n",
       "      <td>...</td>\n",
       "      <td>...</td>\n",
       "      <td>...</td>\n",
       "      <td>...</td>\n",
       "      <td>...</td>\n",
       "      <td>...</td>\n",
       "      <td>...</td>\n",
       "      <td>...</td>\n",
       "      <td>...</td>\n",
       "      <td>...</td>\n",
       "      <td>...</td>\n",
       "      <td>...</td>\n",
       "      <td>...</td>\n",
       "      <td>...</td>\n",
       "    </tr>\n",
       "    <tr>\n",
       "      <th>499995</th>\n",
       "      <td>49999</td>\n",
       "      <td>0</td>\n",
       "      <td>100</td>\n",
       "      <td>128</td>\n",
       "      <td>2718</td>\n",
       "      <td>17735</td>\n",
       "      <td>468</td>\n",
       "      <td>626</td>\n",
       "      <td>16</td>\n",
       "      <td>9</td>\n",
       "      <td>...</td>\n",
       "      <td>NaN</td>\n",
       "      <td>NaN</td>\n",
       "      <td>NaN</td>\n",
       "      <td>6.0</td>\n",
       "      <td>NaN</td>\n",
       "      <td>NaN</td>\n",
       "      <td>NaN</td>\n",
       "      <td>NaN</td>\n",
       "      <td>NaN</td>\n",
       "      <td>NaN</td>\n",
       "    </tr>\n",
       "    <tr>\n",
       "      <th>499996</th>\n",
       "      <td>49999</td>\n",
       "      <td>0</td>\n",
       "      <td>9</td>\n",
       "      <td>129</td>\n",
       "      <td>3755</td>\n",
       "      <td>20815</td>\n",
       "      <td>507</td>\n",
       "      <td>607</td>\n",
       "      <td>12</td>\n",
       "      <td>6</td>\n",
       "      <td>...</td>\n",
       "      <td>1.0</td>\n",
       "      <td>NaN</td>\n",
       "      <td>NaN</td>\n",
       "      <td>15.0</td>\n",
       "      <td>NaN</td>\n",
       "      <td>NaN</td>\n",
       "      <td>NaN</td>\n",
       "      <td>NaN</td>\n",
       "      <td>NaN</td>\n",
       "      <td>NaN</td>\n",
       "    </tr>\n",
       "    <tr>\n",
       "      <th>499997</th>\n",
       "      <td>49999</td>\n",
       "      <td>0</td>\n",
       "      <td>90</td>\n",
       "      <td>130</td>\n",
       "      <td>1059</td>\n",
       "      <td>16225</td>\n",
       "      <td>371</td>\n",
       "      <td>404</td>\n",
       "      <td>5</td>\n",
       "      <td>3</td>\n",
       "      <td>...</td>\n",
       "      <td>NaN</td>\n",
       "      <td>NaN</td>\n",
       "      <td>NaN</td>\n",
       "      <td>2.0</td>\n",
       "      <td>NaN</td>\n",
       "      <td>NaN</td>\n",
       "      <td>NaN</td>\n",
       "      <td>NaN</td>\n",
       "      <td>NaN</td>\n",
       "      <td>NaN</td>\n",
       "    </tr>\n",
       "    <tr>\n",
       "      <th>499998</th>\n",
       "      <td>49999</td>\n",
       "      <td>0</td>\n",
       "      <td>73</td>\n",
       "      <td>131</td>\n",
       "      <td>3165</td>\n",
       "      <td>31015</td>\n",
       "      <td>780</td>\n",
       "      <td>703</td>\n",
       "      <td>8</td>\n",
       "      <td>6</td>\n",
       "      <td>...</td>\n",
       "      <td>NaN</td>\n",
       "      <td>NaN</td>\n",
       "      <td>NaN</td>\n",
       "      <td>4.0</td>\n",
       "      <td>NaN</td>\n",
       "      <td>NaN</td>\n",
       "      <td>NaN</td>\n",
       "      <td>NaN</td>\n",
       "      <td>NaN</td>\n",
       "      <td>NaN</td>\n",
       "    </tr>\n",
       "    <tr>\n",
       "      <th>499999</th>\n",
       "      <td>49999</td>\n",
       "      <td>158360</td>\n",
       "      <td>53</td>\n",
       "      <td>132</td>\n",
       "      <td>2972</td>\n",
       "      <td>21195</td>\n",
       "      <td>520</td>\n",
       "      <td>533</td>\n",
       "      <td>6</td>\n",
       "      <td>6</td>\n",
       "      <td>...</td>\n",
       "      <td>1.0</td>\n",
       "      <td>NaN</td>\n",
       "      <td>NaN</td>\n",
       "      <td>NaN</td>\n",
       "      <td>NaN</td>\n",
       "      <td>NaN</td>\n",
       "      <td>NaN</td>\n",
       "      <td>NaN</td>\n",
       "      <td>NaN</td>\n",
       "      <td>NaN</td>\n",
       "    </tr>\n",
       "  </tbody>\n",
       "</table>\n",
       "<p>500000 rows × 73 columns</p>\n",
       "</div>"
      ],
      "text/plain": [
       "        match_id  account_id  hero_id  player_slot  gold  gold_spent  \\\n",
       "0              0           0       86            0  3261       10960   \n",
       "1              0           1       51            1  2954       17760   \n",
       "2              0           0       83            2   110       12195   \n",
       "3              0           2       11            3  1179       22505   \n",
       "4              0           3       67            4  3307       23825   \n",
       "...          ...         ...      ...          ...   ...         ...   \n",
       "499995     49999           0      100          128  2718       17735   \n",
       "499996     49999           0        9          129  3755       20815   \n",
       "499997     49999           0       90          130  1059       16225   \n",
       "499998     49999           0       73          131  3165       31015   \n",
       "499999     49999      158360       53          132  2972       21195   \n",
       "\n",
       "        gold_per_min  xp_per_min  kills  deaths  ...  unit_order_glyph  \\\n",
       "0                347         362      9       3  ...               NaN   \n",
       "1                494         659     13       3  ...               NaN   \n",
       "2                350         385      0       4  ...               NaN   \n",
       "3                599         605      8       4  ...               1.0   \n",
       "4                613         762     20       3  ...               3.0   \n",
       "...              ...         ...    ...     ...  ...               ...   \n",
       "499995           468         626     16       9  ...               NaN   \n",
       "499996           507         607     12       6  ...               1.0   \n",
       "499997           371         404      5       3  ...               NaN   \n",
       "499998           780         703      8       6  ...               NaN   \n",
       "499999           520         533      6       6  ...               1.0   \n",
       "\n",
       "        unit_order_eject_item_from_stash  unit_order_cast_rune  \\\n",
       "0                                    NaN                   NaN   \n",
       "1                                    NaN                   NaN   \n",
       "2                                    NaN                   NaN   \n",
       "3                                    NaN                   NaN   \n",
       "4                                    NaN                   NaN   \n",
       "...                                  ...                   ...   \n",
       "499995                               NaN                   NaN   \n",
       "499996                               NaN                   NaN   \n",
       "499997                               NaN                   NaN   \n",
       "499998                               NaN                   NaN   \n",
       "499999                               NaN                   NaN   \n",
       "\n",
       "       unit_order_ping_ability  unit_order_move_to_direction  \\\n",
       "0                          6.0                           NaN   \n",
       "1                         14.0                           NaN   \n",
       "2                         17.0                           NaN   \n",
       "3                         13.0                           NaN   \n",
       "4                         23.0                           NaN   \n",
       "...                        ...                           ...   \n",
       "499995                     6.0                           NaN   \n",
       "499996                    15.0                           NaN   \n",
       "499997                     2.0                           NaN   \n",
       "499998                     4.0                           NaN   \n",
       "499999                     NaN                           NaN   \n",
       "\n",
       "        unit_order_patrol  unit_order_vector_target_position  \\\n",
       "0                     NaN                                NaN   \n",
       "1                     NaN                                NaN   \n",
       "2                     NaN                                NaN   \n",
       "3                     NaN                                NaN   \n",
       "4                     NaN                                NaN   \n",
       "...                   ...                                ...   \n",
       "499995                NaN                                NaN   \n",
       "499996                NaN                                NaN   \n",
       "499997                NaN                                NaN   \n",
       "499998                NaN                                NaN   \n",
       "499999                NaN                                NaN   \n",
       "\n",
       "        unit_order_radar  unit_order_set_item_combine_lock  \\\n",
       "0                    NaN                               NaN   \n",
       "1                    NaN                               NaN   \n",
       "2                    NaN                               NaN   \n",
       "3                    NaN                               NaN   \n",
       "4                    NaN                               NaN   \n",
       "...                  ...                               ...   \n",
       "499995               NaN                               NaN   \n",
       "499996               NaN                               NaN   \n",
       "499997               NaN                               NaN   \n",
       "499998               NaN                               NaN   \n",
       "499999               NaN                               NaN   \n",
       "\n",
       "        unit_order_continue  \n",
       "0                       NaN  \n",
       "1                       NaN  \n",
       "2                       NaN  \n",
       "3                       NaN  \n",
       "4                       NaN  \n",
       "...                     ...  \n",
       "499995                  NaN  \n",
       "499996                  NaN  \n",
       "499997                  NaN  \n",
       "499998                  NaN  \n",
       "499999                  NaN  \n",
       "\n",
       "[500000 rows x 73 columns]"
      ]
     },
     "execution_count": 172,
     "metadata": {},
     "output_type": "execute_result"
    }
   ],
   "source": [
    "players"
   ]
  },
  {
   "cell_type": "markdown",
   "id": "4ce1f155",
   "metadata": {},
   "source": [
    "# More Data"
   ]
  },
  {
   "cell_type": "code",
   "execution_count": 173,
   "id": "a593aeb7",
   "metadata": {},
   "outputs": [],
   "source": [
    "early_game = pd.read_csv(\"All_data_early_game.csv\")\n",
    "hero_id = pd.read_csv(\"Data/hero_names.csv\")\n",
    "hero_roles = pd.read_csv(\"Data/hero_roles728a.csv\")"
   ]
  },
  {
   "cell_type": "markdown",
   "id": "c462ecc6",
   "metadata": {},
   "source": [
    "# Start Preprocessing Phase"
   ]
  },
  {
   "cell_type": "markdown",
   "id": "b391cdb6",
   "metadata": {},
   "source": [
    "## Form Hero Roles"
   ]
  },
  {
   "cell_type": "code",
   "execution_count": 174,
   "id": "f5f1d494",
   "metadata": {},
   "outputs": [],
   "source": [
    "roles_dict = dict(list(enumerate(['Carries', 'Supports', 'Nukers', 'Disablers', 'Junglers', 'Durable',\n",
    "       'Escape', 'Pushers', 'Initiators'],start=1)))"
   ]
  },
  {
   "cell_type": "code",
   "execution_count": 175,
   "id": "fa7c3017",
   "metadata": {},
   "outputs": [
    {
     "name": "stderr",
     "output_type": "stream",
     "text": [
      "100%|██████████████████████████████████████████████████████████████████████████████| 112/112 [00:00<00:00, 7418.74it/s]\n"
     ]
    }
   ],
   "source": [
    "roles = []\n",
    "\n",
    "for i in tqdm(hero_id.localized_name):\n",
    "    temp_role = []\n",
    "    for j in range(len(hero_roles.columns)):\n",
    "        for k in hero_roles[hero_roles.columns[j]]:\n",
    "            if i==k:\n",
    "                temp_role.append(hero_roles.columns[j])\n",
    "    roles.append(temp_role)"
   ]
  },
  {
   "cell_type": "code",
   "execution_count": 176,
   "id": "4a0a62bf",
   "metadata": {},
   "outputs": [
    {
     "name": "stderr",
     "output_type": "stream",
     "text": [
      "C:\\Users\\bimoi\\AppData\\Local\\Temp\\ipykernel_12840\\2290769231.py:2: SettingWithCopyWarning: \n",
      "A value is trying to be set on a copy of a slice from a DataFrame\n",
      "\n",
      "See the caveats in the documentation: https://pandas.pydata.org/pandas-docs/stable/user_guide/indexing.html#returning-a-view-versus-a-copy\n",
      "  hero_id.Roles[74] = ['Carries', 'Nukers', 'Disablers']\n"
     ]
    }
   ],
   "source": [
    "hero_id[\"Roles\"] = roles\n",
    "hero_id.Roles[74] = ['Carries', 'Nukers', 'Disablers']"
   ]
  },
  {
   "cell_type": "markdown",
   "id": "67773eba",
   "metadata": {},
   "source": [
    "## Define Synergy Calculator"
   ]
  },
  {
   "cell_type": "code",
   "execution_count": 177,
   "id": "acb94e62",
   "metadata": {},
   "outputs": [],
   "source": [
    "Hard_support = [\"Supports\",\"Nukers\",\"Disablers\"] #100,60,50\n",
    "Support = [\"Supports\",\"Disablers\",\"Initiators\",\"Escape\"] #100,70,65,60\n",
    "Offlane = [\"Durable\",\"Initiators\",\"Pushers\",\"Disablers\"] #90,80,70,50\n",
    "Midlaner = [\"Carries\",\"Escape\",\"Nukers\",\"Initiators\"] #80,80,70,60\n",
    "Carry = [\"Carries\",\"Pushers\",\"Junglers\"] #95,60,50\n",
    "\n",
    "Ideal_Team = Hard_support+Support+Offlane+Midlaner+Carry\n",
    "Weight_Ideal_Team = [100,60,50,100,70,65,60,90,80,70,50,80,80,70,60,95,60,50]"
   ]
  },
  {
   "cell_type": "code",
   "execution_count": 178,
   "id": "4d52343d",
   "metadata": {},
   "outputs": [],
   "source": [
    "def find_all_roles(hero_id_list):\n",
    "    temp_roles = []\n",
    "\n",
    "    for i in hero_id_list:\n",
    "        hero_role = hero_id[hero_id.hero_id==i].Roles\n",
    "#         print(i,hero_role,hero_id[hero_id.hero_id==i].localized_name,\"\\n\")\n",
    "        if hero_id_list!=21:\n",
    "            temp_roles = temp_roles+list(hero_role)[0]\n",
    "        else:\n",
    "            temp_roles = temp_roles+hero_role\n",
    "        \n",
    "    return temp_roles"
   ]
  },
  {
   "cell_type": "code",
   "execution_count": 179,
   "id": "29708e32",
   "metadata": {},
   "outputs": [],
   "source": [
    "# pos 5 support, disabler or nuker\n",
    "# pos 4 support, nuker or disabler or escape\n",
    "# pos 3 durable, pusher or initiator, can support or carry\n",
    "# pos 2 nuke or disable, escape, carry\n",
    "# pos 1 carry"
   ]
  },
  {
   "cell_type": "code",
   "execution_count": 180,
   "id": "17b3c3f7",
   "metadata": {},
   "outputs": [],
   "source": [
    "def synergy_cal(hero_role):\n",
    "\n",
    "    cumsum = 0\n",
    "    # Manual Weight\n",
    "    temp_df = pd.DataFrame(hero_role,columns=[\"Roles\"])\n",
    "    if len(temp_df[temp_df.Roles==\"Supports\"])!=2:\n",
    "        cumsum = cumsum-1\n",
    "    if len(temp_df[temp_df.Roles==\"Carries\"])!=2:\n",
    "        cumsum = cumsum-1\n",
    "\n",
    "    #Automatic Weight\n",
    "    for i in hero_role:\n",
    "        for j in range(len(roles_dict)):\n",
    "            dict_val = j+1\n",
    "            if i==roles_dict[dict_val]:\n",
    "                val = dict_val*(Weight_Ideal_Team[j]//(100*dict_val))\n",
    "                cumsum = cumsum+val\n",
    "    return cumsum/9"
   ]
  },
  {
   "cell_type": "markdown",
   "id": "80c62d1e",
   "metadata": {},
   "source": [
    "## Filtering and Transforming Players Dataset"
   ]
  },
  {
   "cell_type": "code",
   "execution_count": 181,
   "id": "dd4207d8",
   "metadata": {},
   "outputs": [],
   "source": [
    "match_left = players[players.hero_id<=0].match_id\n",
    "players = players.copy()\n",
    "players = players[~players.match_id.isin(match_left)]\n",
    "players.reset_index(inplace=True)\n",
    "players.drop(players.columns[0],inplace=True,axis=1)"
   ]
  },
  {
   "cell_type": "code",
   "execution_count": 182,
   "id": "2542c751",
   "metadata": {},
   "outputs": [
    {
     "name": "stderr",
     "output_type": "stream",
     "text": [
      "100%|█████████████████████████████████████████████████████████████████████████| 49965/49965 [00:03<00:00, 13943.00it/s]\n"
     ]
    }
   ],
   "source": [
    "hero_id_compiled = []\n",
    "\n",
    "for i in tqdm(range(len(players)//10)):\n",
    "    radiant = [int(players.hero_id[(i*10)+j]) for j in range(5)]\n",
    "    \n",
    "    dire = [int(players.hero_id[(i*10)+j+5]) for j in range(5)]\n",
    "    \n",
    "    hero_id_compiled.append(radiant+dire)"
   ]
  },
  {
   "cell_type": "code",
   "execution_count": 183,
   "id": "d7e6a024",
   "metadata": {},
   "outputs": [],
   "source": [
    "id_number = [0,1,2,3,4,128,129,130,131,132]\n",
    "hero_id_cols = [f\"hero_id_{i}\" for i in id_number]\n",
    "\n",
    "players_transformed = pd.DataFrame(hero_id_compiled,columns=hero_id_cols)"
   ]
  },
  {
   "cell_type": "markdown",
   "id": "bb8cfcbd",
   "metadata": {},
   "source": [
    "## Early Game Dataset"
   ]
  },
  {
   "cell_type": "code",
   "execution_count": 184,
   "id": "a351af24",
   "metadata": {},
   "outputs": [],
   "source": [
    "early_game.drop([early_game.columns[0],\"match_id\"],axis=1,inplace=True)"
   ]
  },
  {
   "cell_type": "markdown",
   "id": "0c374531",
   "metadata": {},
   "source": [
    "# Concatenate Files"
   ]
  },
  {
   "cell_type": "code",
   "execution_count": 185,
   "id": "798b0d5f",
   "metadata": {},
   "outputs": [],
   "source": [
    "match_win = match[\"radiant_win\"].copy()\n",
    "match_win = match_win.map({True:1,False:0})"
   ]
  },
  {
   "cell_type": "code",
   "execution_count": 186,
   "id": "7614d835",
   "metadata": {},
   "outputs": [
    {
     "name": "stdout",
     "output_type": "stream",
     "text": [
      "(49887, 31) (49965, 10) (50000,)\n"
     ]
    }
   ],
   "source": [
    "print(early_game.shape,players_transformed.shape,match_win.shape)"
   ]
  },
  {
   "cell_type": "code",
   "execution_count": 187,
   "id": "3eb5f9f9",
   "metadata": {},
   "outputs": [],
   "source": [
    "full_data = early_game.join([players_transformed,match_win])\n",
    "full_data.dropna(inplace=True)\n",
    "full_data.drop([\"times\"],axis=1,inplace=True)"
   ]
  },
  {
   "cell_type": "markdown",
   "id": "41392184",
   "metadata": {},
   "source": [
    "## Calculations (ALWAYS AT THE END)"
   ]
  },
  {
   "cell_type": "code",
   "execution_count": 188,
   "id": "19525d4c",
   "metadata": {},
   "outputs": [],
   "source": [
    "# synergy_radiant = []\n",
    "# synergy_dire = []\n",
    "# hero_cols = full_data.columns[30:-1]\n",
    "\n",
    "# for i in tqdm(range(len(full_data))):\n",
    "#     radiant = []\n",
    "#     dire = []\n",
    "#     radiant = list(full_data[hero_cols[0:5]].loc[i])\n",
    "#     rad_role = find_all_roles(radiant)\n",
    "#     val_rad = synergy_cal(rad_role)\n",
    "#     synergy_radiant.append(val_rad)\n",
    "    \n",
    "#     dire = list(full_data[hero_cols[5:10]].loc[i])\n",
    "#     dire_role = find_all_roles(dire)\n",
    "#     val_dire = synergy_cal(dire_role)\n",
    "#     synergy_dire.append(val_dire)\n",
    "    \n",
    "#     if val_dire>1 or val_rad>1:\n",
    "#         print(val_dire,val_rad)"
   ]
  },
  {
   "cell_type": "code",
   "execution_count": 189,
   "id": "29de47dd",
   "metadata": {},
   "outputs": [
    {
     "name": "stderr",
     "output_type": "stream",
     "text": [
      "100%|███████████████████████████████████████████████████████████████████████████| 49887/49887 [03:34<00:00, 232.67it/s]\n"
     ]
    }
   ],
   "source": [
    "# synergy_radiant = []\n",
    "# synergy_dire = []\n",
    "# hero_cols = full_data.columns[30:-1]\n",
    "\n",
    "# for i in tqdm(range(len(full_data))):\n",
    "#     radiant = []\n",
    "#     dire = []\n",
    "#     radiant = list(full_data[hero_cols[0:5]].loc[i])\n",
    "#     rad_role = find_all_roles(radiant)\n",
    "#     synergy_radiant.append(rad_role)\n",
    "    \n",
    "#     dire = list(full_data[hero_cols[5:10]].loc[i])\n",
    "#     dire_role = find_all_roles(dire)\n",
    "#     synergy_dire.append(dire_role)"
   ]
  },
  {
   "cell_type": "code",
   "execution_count": 190,
   "id": "7f9874bd",
   "metadata": {},
   "outputs": [],
   "source": [
    "# full_data[\"synergy_radiant\"] = synergy_radiant\n",
    "# full_data[\"synergy_dire\"] = synergy_dire"
   ]
  },
  {
   "cell_type": "markdown",
   "id": "ad0e9446",
   "metadata": {},
   "source": [
    "# Data Visualizations"
   ]
  },
  {
   "cell_type": "markdown",
   "id": "15c14721",
   "metadata": {},
   "source": [
    "# Hero Roles"
   ]
  },
  {
   "cell_type": "code",
   "execution_count": 191,
   "id": "544c4ce8",
   "metadata": {},
   "outputs": [
    {
     "data": {
      "image/png": "[encoded data removed]",
      "text/plain": [
       "<Figure size 432x288 with 1 Axes>"
      ]
     },
     "metadata": {
      "needs_background": "light"
     },
     "output_type": "display_data"
    }
   ],
   "source": [
    "df_hero_roles = pd.DataFrame(np.reshape(np.expand_dims(hero_roles.count(),1),(1,len(hero_roles.columns))),columns=hero_roles.columns)\n",
    "df_hero_roles.plot(kind=\"bar\",grid=\"--\",yticks=np.arange(0,100,10),title=\"Dota 2 Roles Histogram Every Hero\",ylabel=\"Total Heroes\",xlabel=\"Roles\")\n",
    "plt.savefig(\"Figures/Dota_2_Roles_Histogram_Every_Hero.png\")\n",
    "plt.show()"
   ]
  },
  {
   "cell_type": "markdown",
   "id": "827b69c1",
   "metadata": {},
   "source": [
    "# To Dos"
   ]
  },
  {
   "cell_type": "markdown",
   "id": "65c28026",
   "metadata": {},
   "source": [
    "## Finish Preprocess\n",
    "### All append file and filtering is done BEFORE CALCULATION\n",
    "### Find a better formula for synergy, right now max is 0.4 and min is -0.1, wtf\n",
    "### Final formula should be 0 to 1\n",
    "### What happens if 3 supp or 3 carry, or 3 initiator, etc\n",
    "### Data scraping hero counters"
   ]
  },
  {
   "cell_type": "code",
   "execution_count": null,
   "id": "edfaad0c",
   "metadata": {},
   "outputs": [],
   "source": []
  }
 ],
 "metadata": {
  "kernelspec": {
   "display_name": "Python [conda env:machinelearning]",
   "language": "python",
   "name": "conda-env-machinelearning-py"
  },
  "language_info": {
   "codemirror_mode": {
    "name": "ipython",
    "version": 3
   },
   "file_extension": ".py",
   "mimetype": "text/x-python",
   "name": "python",
   "nbconvert_exporter": "python",
   "pygments_lexer": "ipython3",
   "version": "3.10.4"
  }
 },
 "nbformat": 4,
 "nbformat_minor": 5
}
