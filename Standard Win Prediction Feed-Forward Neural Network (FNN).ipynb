{
 "cells": [
  {
   "cell_type": "code",
   "execution_count": 1,
   "id": "6ad95938",
   "metadata": {},
   "outputs": [],
   "source": [
    "import pandas as pd\n",
    "import numpy as np\n",
    "from tqdm import tqdm\n",
    "import pickle"
   ]
  },
  {
   "cell_type": "code",
   "execution_count": 2,
   "id": "893b0b87",
   "metadata": {},
   "outputs": [],
   "source": [
    "from sklearn.metrics import precision_score,recall_score,confusion_matrix,ConfusionMatrixDisplay,f1_score"
   ]
  },
  {
   "cell_type": "markdown",
   "id": "d6fb0e19",
   "metadata": {},
   "source": [
    "# Training Data Default"
   ]
  },
  {
   "cell_type": "code",
   "execution_count": 3,
   "id": "a6f76444",
   "metadata": {},
   "outputs": [],
   "source": [
    "players = pd.read_csv(\"Data/players.csv\")\n",
    "match = pd.read_csv(\"Data/match.csv\")"
   ]
  },
  {
   "cell_type": "markdown",
   "id": "4ce1f155",
   "metadata": {},
   "source": [
    "# More Data"
   ]
  },
  {
   "cell_type": "code",
   "execution_count": 4,
   "id": "a593aeb7",
   "metadata": {},
   "outputs": [],
   "source": [
    "early_game = pd.read_csv(\"All_data_early_game.csv\")"
   ]
  },
  {
   "cell_type": "markdown",
   "id": "62edaed3",
   "metadata": {},
   "source": [
    "# Testing Data Later On"
   ]
  },
  {
   "cell_type": "code",
   "execution_count": 5,
   "id": "87d04d4b",
   "metadata": {},
   "outputs": [],
   "source": [
    "# players_test = pd.read_csv(\"Data/test_player.csv\")\n",
    "# match_test = pd.read_csv(\"Data/test_labels.csv\")"
   ]
  },
  {
   "cell_type": "markdown",
   "id": "c462ecc6",
   "metadata": {},
   "source": [
    "# Preprocessing"
   ]
  },
  {
   "cell_type": "code",
   "execution_count": 6,
   "id": "19525d4c",
   "metadata": {},
   "outputs": [
    {
     "name": "stderr",
     "output_type": "stream",
     "text": [
      "100%|█████████████████████████████████████████████████████████████████████████| 50000/50000 [00:03<00:00, 12680.97it/s]\n"
     ]
    }
   ],
   "source": [
    "hero_id_compiled = []\n",
    "\n",
    "for i in tqdm(range(len(players)//10)):\n",
    "    temp_hero_id = []\n",
    "    temp_hero_id = [players.hero_id[(i*10)+j] for j in range(10)]\n",
    "    hero_id_compiled.append(temp_hero_id)"
   ]
  },
  {
   "cell_type": "code",
   "execution_count": 7,
   "id": "7f9874bd",
   "metadata": {},
   "outputs": [],
   "source": [
    "# account_cols = [f\"account_{i}\" for i in range(10)]\n",
    "# players_train[account_cols] = account_id_compiled\n",
    "id_number = [0,1,2,3,4,128,129,130,131,132]\n",
    "hero_cols = [f\"hero_{i}\" for i in id_number]\n",
    "\n",
    "players_train = pd.DataFrame(hero_id_compiled, columns=hero_cols)\n",
    "players_train[\"match_id\"] = np.arange(1,50001,1)\n"
   ]
  },
  {
   "cell_type": "code",
   "execution_count": 57,
   "id": "5166243b",
   "metadata": {},
   "outputs": [],
   "source": [
    "match_win = match.radiant_win.copy()\n",
    "match_win = match_win.map({True:1,False:0})"
   ]
  },
  {
   "cell_type": "markdown",
   "id": "63061fbe",
   "metadata": {},
   "source": [
    "## Preprocess Phase - Concatenate Datasets"
   ]
  },
  {
   "cell_type": "code",
   "execution_count": 11,
   "id": "b6a1e50e",
   "metadata": {},
   "outputs": [
    {
     "data": {
      "text/plain": [
       "Index(['Unnamed: 0', 'match_id', 'times', 'gold_t_0', 'lh_t_0', 'xp_t_0',\n",
       "       'gold_t_1', 'lh_t_1', 'xp_t_1', 'gold_t_2', 'lh_t_2', 'xp_t_2',\n",
       "       'gold_t_3', 'lh_t_3', 'xp_t_3', 'gold_t_4', 'lh_t_4', 'xp_t_4',\n",
       "       'gold_t_128', 'lh_t_128', 'xp_t_128', 'gold_t_129', 'lh_t_129',\n",
       "       'xp_t_129', 'gold_t_130', 'lh_t_130', 'xp_t_130', 'gold_t_131',\n",
       "       'lh_t_131', 'xp_t_131', 'gold_t_132', 'lh_t_132', 'xp_t_132', 'hero_0',\n",
       "       'hero_1', 'hero_2', 'hero_3', 'hero_4', 'hero_128', 'hero_129',\n",
       "       'hero_130', 'hero_131', 'hero_132', 'match_id', 'radiant_win'],\n",
       "      dtype='object')"
      ]
     },
     "execution_count": 11,
     "metadata": {},
     "output_type": "execute_result"
    }
   ],
   "source": [
    "full_data = pd.concat([early_game,players_train,match_win],axis=1)\n",
    "preprocessed_data = full_data.dropna()\n",
    "preprocessed_data.drop([preprocessed_data.columns[0],\"match_id\",\"times\"],axis=1,inplace=True)\n",
    "preprocessed_data.columns"
   ]
  },
  {
   "cell_type": "markdown",
   "id": "b4c85417",
   "metadata": {},
   "source": [
    "# Create X and Y Datasets"
   ]
  },
  {
   "cell_type": "code",
   "execution_count": 16,
   "id": "5588d602",
   "metadata": {},
   "outputs": [],
   "source": [
    "X_data = preprocessed_data.drop([\"radiant_win\"],axis=1)\n",
    "Y_data = preprocessed_data.radiant_win\n",
    "# Y_data = pd.DataFrame()\n",
    "# Y_data[\"radiant_win\"] = preprocessed_data.radiant_win"
   ]
  },
  {
   "cell_type": "markdown",
   "id": "63d4e5c3",
   "metadata": {},
   "source": [
    "# Train, Test, Split"
   ]
  },
  {
   "cell_type": "code",
   "execution_count": 18,
   "id": "efcfebe8",
   "metadata": {},
   "outputs": [],
   "source": [
    "from sklearn.model_selection import train_test_split\n",
    "from sklearn.svm import SVC\n",
    "from sklearn.preprocessing import StandardScaler\n",
    "from sklearn.pipeline import make_pipeline"
   ]
  },
  {
   "cell_type": "code",
   "execution_count": 19,
   "id": "2bf928bc",
   "metadata": {},
   "outputs": [],
   "source": [
    "X_train, X_test, y_train, y_test = train_test_split(X_data, Y_data, test_size = 0.2, random_state = 42)"
   ]
  },
  {
   "cell_type": "markdown",
   "id": "442e86bb",
   "metadata": {},
   "source": [
    "# Feed-Forward Neural Network (FNN)"
   ]
  },
  {
   "cell_type": "code",
   "execution_count": 36,
   "id": "7168845c",
   "metadata": {},
   "outputs": [
    {
     "data": {
      "text/html": [
       "<div>\n",
       "<style scoped>\n",
       "    .dataframe tbody tr th:only-of-type {\n",
       "        vertical-align: middle;\n",
       "    }\n",
       "\n",
       "    .dataframe tbody tr th {\n",
       "        vertical-align: top;\n",
       "    }\n",
       "\n",
       "    .dataframe thead th {\n",
       "        text-align: right;\n",
       "    }\n",
       "</style>\n",
       "<table border=\"1\" class=\"dataframe\">\n",
       "  <thead>\n",
       "    <tr style=\"text-align: right;\">\n",
       "      <th></th>\n",
       "      <th>gold_t_0</th>\n",
       "      <th>lh_t_0</th>\n",
       "      <th>xp_t_0</th>\n",
       "      <th>gold_t_1</th>\n",
       "      <th>lh_t_1</th>\n",
       "      <th>xp_t_1</th>\n",
       "      <th>gold_t_2</th>\n",
       "      <th>lh_t_2</th>\n",
       "      <th>xp_t_2</th>\n",
       "      <th>gold_t_3</th>\n",
       "      <th>...</th>\n",
       "      <th>hero_0</th>\n",
       "      <th>hero_1</th>\n",
       "      <th>hero_2</th>\n",
       "      <th>hero_3</th>\n",
       "      <th>hero_4</th>\n",
       "      <th>hero_128</th>\n",
       "      <th>hero_129</th>\n",
       "      <th>hero_130</th>\n",
       "      <th>hero_131</th>\n",
       "      <th>hero_132</th>\n",
       "    </tr>\n",
       "  </thead>\n",
       "  <tbody>\n",
       "    <tr>\n",
       "      <th>39229</th>\n",
       "      <td>4013.0</td>\n",
       "      <td>42.0</td>\n",
       "      <td>3480.0</td>\n",
       "      <td>2741.0</td>\n",
       "      <td>10.0</td>\n",
       "      <td>3119.0</td>\n",
       "      <td>5100.0</td>\n",
       "      <td>66.0</td>\n",
       "      <td>6341.0</td>\n",
       "      <td>5893.0</td>\n",
       "      <td>...</td>\n",
       "      <td>104.0</td>\n",
       "      <td>33.0</td>\n",
       "      <td>8.0</td>\n",
       "      <td>74.0</td>\n",
       "      <td>86.0</td>\n",
       "      <td>30.0</td>\n",
       "      <td>31.0</td>\n",
       "      <td>1.0</td>\n",
       "      <td>96.0</td>\n",
       "      <td>97.0</td>\n",
       "    </tr>\n",
       "    <tr>\n",
       "      <th>34043</th>\n",
       "      <td>5835.0</td>\n",
       "      <td>54.0</td>\n",
       "      <td>5869.0</td>\n",
       "      <td>5328.0</td>\n",
       "      <td>42.0</td>\n",
       "      <td>3827.0</td>\n",
       "      <td>6666.0</td>\n",
       "      <td>88.0</td>\n",
       "      <td>7345.0</td>\n",
       "      <td>6676.0</td>\n",
       "      <td>...</td>\n",
       "      <td>2.0</td>\n",
       "      <td>14.0</td>\n",
       "      <td>23.0</td>\n",
       "      <td>73.0</td>\n",
       "      <td>57.0</td>\n",
       "      <td>59.0</td>\n",
       "      <td>21.0</td>\n",
       "      <td>79.0</td>\n",
       "      <td>7.0</td>\n",
       "      <td>30.0</td>\n",
       "    </tr>\n",
       "    <tr>\n",
       "      <th>41864</th>\n",
       "      <td>3180.0</td>\n",
       "      <td>18.0</td>\n",
       "      <td>3025.0</td>\n",
       "      <td>5694.0</td>\n",
       "      <td>41.0</td>\n",
       "      <td>6400.0</td>\n",
       "      <td>3567.0</td>\n",
       "      <td>6.0</td>\n",
       "      <td>3234.0</td>\n",
       "      <td>6366.0</td>\n",
       "      <td>...</td>\n",
       "      <td>10.0</td>\n",
       "      <td>62.0</td>\n",
       "      <td>60.0</td>\n",
       "      <td>68.0</td>\n",
       "      <td>18.0</td>\n",
       "      <td>112.0</td>\n",
       "      <td>14.0</td>\n",
       "      <td>21.0</td>\n",
       "      <td>73.0</td>\n",
       "      <td>53.0</td>\n",
       "    </tr>\n",
       "    <tr>\n",
       "      <th>14441</th>\n",
       "      <td>3781.0</td>\n",
       "      <td>8.0</td>\n",
       "      <td>3284.0</td>\n",
       "      <td>6862.0</td>\n",
       "      <td>58.0</td>\n",
       "      <td>5761.0</td>\n",
       "      <td>4586.0</td>\n",
       "      <td>19.0</td>\n",
       "      <td>4699.0</td>\n",
       "      <td>2882.0</td>\n",
       "      <td>...</td>\n",
       "      <td>17.0</td>\n",
       "      <td>84.0</td>\n",
       "      <td>19.0</td>\n",
       "      <td>5.0</td>\n",
       "      <td>96.0</td>\n",
       "      <td>53.0</td>\n",
       "      <td>21.0</td>\n",
       "      <td>80.0</td>\n",
       "      <td>31.0</td>\n",
       "      <td>93.0</td>\n",
       "    </tr>\n",
       "    <tr>\n",
       "      <th>30288</th>\n",
       "      <td>3245.0</td>\n",
       "      <td>26.0</td>\n",
       "      <td>3401.0</td>\n",
       "      <td>5163.0</td>\n",
       "      <td>59.0</td>\n",
       "      <td>6066.0</td>\n",
       "      <td>3583.0</td>\n",
       "      <td>23.0</td>\n",
       "      <td>4826.0</td>\n",
       "      <td>2453.0</td>\n",
       "      <td>...</td>\n",
       "      <td>22.0</td>\n",
       "      <td>27.0</td>\n",
       "      <td>30.0</td>\n",
       "      <td>63.0</td>\n",
       "      <td>81.0</td>\n",
       "      <td>8.0</td>\n",
       "      <td>104.0</td>\n",
       "      <td>7.0</td>\n",
       "      <td>54.0</td>\n",
       "      <td>26.0</td>\n",
       "    </tr>\n",
       "    <tr>\n",
       "      <th>...</th>\n",
       "      <td>...</td>\n",
       "      <td>...</td>\n",
       "      <td>...</td>\n",
       "      <td>...</td>\n",
       "      <td>...</td>\n",
       "      <td>...</td>\n",
       "      <td>...</td>\n",
       "      <td>...</td>\n",
       "      <td>...</td>\n",
       "      <td>...</td>\n",
       "      <td>...</td>\n",
       "      <td>...</td>\n",
       "      <td>...</td>\n",
       "      <td>...</td>\n",
       "      <td>...</td>\n",
       "      <td>...</td>\n",
       "      <td>...</td>\n",
       "      <td>...</td>\n",
       "      <td>...</td>\n",
       "      <td>...</td>\n",
       "      <td>...</td>\n",
       "    </tr>\n",
       "    <tr>\n",
       "      <th>11284</th>\n",
       "      <td>6200.0</td>\n",
       "      <td>73.0</td>\n",
       "      <td>5693.0</td>\n",
       "      <td>3971.0</td>\n",
       "      <td>37.0</td>\n",
       "      <td>4139.0</td>\n",
       "      <td>3039.0</td>\n",
       "      <td>23.0</td>\n",
       "      <td>3078.0</td>\n",
       "      <td>6289.0</td>\n",
       "      <td>...</td>\n",
       "      <td>69.0</td>\n",
       "      <td>1.0</td>\n",
       "      <td>31.0</td>\n",
       "      <td>13.0</td>\n",
       "      <td>26.0</td>\n",
       "      <td>72.0</td>\n",
       "      <td>110.0</td>\n",
       "      <td>82.0</td>\n",
       "      <td>112.0</td>\n",
       "      <td>100.0</td>\n",
       "    </tr>\n",
       "    <tr>\n",
       "      <th>44732</th>\n",
       "      <td>2233.0</td>\n",
       "      <td>12.0</td>\n",
       "      <td>2339.0</td>\n",
       "      <td>5904.0</td>\n",
       "      <td>112.0</td>\n",
       "      <td>5394.0</td>\n",
       "      <td>5993.0</td>\n",
       "      <td>46.0</td>\n",
       "      <td>7308.0</td>\n",
       "      <td>4316.0</td>\n",
       "      <td>...</td>\n",
       "      <td>21.0</td>\n",
       "      <td>1.0</td>\n",
       "      <td>101.0</td>\n",
       "      <td>11.0</td>\n",
       "      <td>16.0</td>\n",
       "      <td>93.0</td>\n",
       "      <td>112.0</td>\n",
       "      <td>59.0</td>\n",
       "      <td>7.0</td>\n",
       "      <td>32.0</td>\n",
       "    </tr>\n",
       "    <tr>\n",
       "      <th>38158</th>\n",
       "      <td>2493.0</td>\n",
       "      <td>21.0</td>\n",
       "      <td>3099.0</td>\n",
       "      <td>2912.0</td>\n",
       "      <td>24.0</td>\n",
       "      <td>3034.0</td>\n",
       "      <td>1916.0</td>\n",
       "      <td>3.0</td>\n",
       "      <td>3203.0</td>\n",
       "      <td>4902.0</td>\n",
       "      <td>...</td>\n",
       "      <td>112.0</td>\n",
       "      <td>4.0</td>\n",
       "      <td>44.0</td>\n",
       "      <td>17.0</td>\n",
       "      <td>88.0</td>\n",
       "      <td>71.0</td>\n",
       "      <td>1.0</td>\n",
       "      <td>6.0</td>\n",
       "      <td>11.0</td>\n",
       "      <td>68.0</td>\n",
       "    </tr>\n",
       "    <tr>\n",
       "      <th>860</th>\n",
       "      <td>4389.0</td>\n",
       "      <td>35.0</td>\n",
       "      <td>5066.0</td>\n",
       "      <td>4870.0</td>\n",
       "      <td>30.0</td>\n",
       "      <td>4324.0</td>\n",
       "      <td>3972.0</td>\n",
       "      <td>49.0</td>\n",
       "      <td>4140.0</td>\n",
       "      <td>4685.0</td>\n",
       "      <td>...</td>\n",
       "      <td>97.0</td>\n",
       "      <td>21.0</td>\n",
       "      <td>57.0</td>\n",
       "      <td>75.0</td>\n",
       "      <td>15.0</td>\n",
       "      <td>101.0</td>\n",
       "      <td>67.0</td>\n",
       "      <td>50.0</td>\n",
       "      <td>19.0</td>\n",
       "      <td>91.0</td>\n",
       "    </tr>\n",
       "    <tr>\n",
       "      <th>15795</th>\n",
       "      <td>4638.0</td>\n",
       "      <td>68.0</td>\n",
       "      <td>4301.0</td>\n",
       "      <td>6986.0</td>\n",
       "      <td>70.0</td>\n",
       "      <td>5597.0</td>\n",
       "      <td>4382.0</td>\n",
       "      <td>44.0</td>\n",
       "      <td>4237.0</td>\n",
       "      <td>2560.0</td>\n",
       "      <td>...</td>\n",
       "      <td>21.0</td>\n",
       "      <td>94.0</td>\n",
       "      <td>11.0</td>\n",
       "      <td>104.0</td>\n",
       "      <td>5.0</td>\n",
       "      <td>86.0</td>\n",
       "      <td>99.0</td>\n",
       "      <td>39.0</td>\n",
       "      <td>10.0</td>\n",
       "      <td>88.0</td>\n",
       "    </tr>\n",
       "  </tbody>\n",
       "</table>\n",
       "<p>39909 rows × 40 columns</p>\n",
       "</div>"
      ],
      "text/plain": [
       "       gold_t_0  lh_t_0  xp_t_0  gold_t_1  lh_t_1  xp_t_1  gold_t_2  lh_t_2  \\\n",
       "39229    4013.0    42.0  3480.0    2741.0    10.0  3119.0    5100.0    66.0   \n",
       "34043    5835.0    54.0  5869.0    5328.0    42.0  3827.0    6666.0    88.0   \n",
       "41864    3180.0    18.0  3025.0    5694.0    41.0  6400.0    3567.0     6.0   \n",
       "14441    3781.0     8.0  3284.0    6862.0    58.0  5761.0    4586.0    19.0   \n",
       "30288    3245.0    26.0  3401.0    5163.0    59.0  6066.0    3583.0    23.0   \n",
       "...         ...     ...     ...       ...     ...     ...       ...     ...   \n",
       "11284    6200.0    73.0  5693.0    3971.0    37.0  4139.0    3039.0    23.0   \n",
       "44732    2233.0    12.0  2339.0    5904.0   112.0  5394.0    5993.0    46.0   \n",
       "38158    2493.0    21.0  3099.0    2912.0    24.0  3034.0    1916.0     3.0   \n",
       "860      4389.0    35.0  5066.0    4870.0    30.0  4324.0    3972.0    49.0   \n",
       "15795    4638.0    68.0  4301.0    6986.0    70.0  5597.0    4382.0    44.0   \n",
       "\n",
       "       xp_t_2  gold_t_3  ...  hero_0  hero_1  hero_2  hero_3  hero_4  \\\n",
       "39229  6341.0    5893.0  ...   104.0    33.0     8.0    74.0    86.0   \n",
       "34043  7345.0    6676.0  ...     2.0    14.0    23.0    73.0    57.0   \n",
       "41864  3234.0    6366.0  ...    10.0    62.0    60.0    68.0    18.0   \n",
       "14441  4699.0    2882.0  ...    17.0    84.0    19.0     5.0    96.0   \n",
       "30288  4826.0    2453.0  ...    22.0    27.0    30.0    63.0    81.0   \n",
       "...       ...       ...  ...     ...     ...     ...     ...     ...   \n",
       "11284  3078.0    6289.0  ...    69.0     1.0    31.0    13.0    26.0   \n",
       "44732  7308.0    4316.0  ...    21.0     1.0   101.0    11.0    16.0   \n",
       "38158  3203.0    4902.0  ...   112.0     4.0    44.0    17.0    88.0   \n",
       "860    4140.0    4685.0  ...    97.0    21.0    57.0    75.0    15.0   \n",
       "15795  4237.0    2560.0  ...    21.0    94.0    11.0   104.0     5.0   \n",
       "\n",
       "       hero_128  hero_129  hero_130  hero_131  hero_132  \n",
       "39229      30.0      31.0       1.0      96.0      97.0  \n",
       "34043      59.0      21.0      79.0       7.0      30.0  \n",
       "41864     112.0      14.0      21.0      73.0      53.0  \n",
       "14441      53.0      21.0      80.0      31.0      93.0  \n",
       "30288       8.0     104.0       7.0      54.0      26.0  \n",
       "...         ...       ...       ...       ...       ...  \n",
       "11284      72.0     110.0      82.0     112.0     100.0  \n",
       "44732      93.0     112.0      59.0       7.0      32.0  \n",
       "38158      71.0       1.0       6.0      11.0      68.0  \n",
       "860       101.0      67.0      50.0      19.0      91.0  \n",
       "15795      86.0      99.0      39.0      10.0      88.0  \n",
       "\n",
       "[39909 rows x 40 columns]"
      ]
     },
     "execution_count": 36,
     "metadata": {},
     "output_type": "execute_result"
    }
   ],
   "source": [
    "X_train"
   ]
  },
  {
   "cell_type": "code",
   "execution_count": 43,
   "id": "dcae972c",
   "metadata": {},
   "outputs": [
    {
     "name": "stdout",
     "output_type": "stream",
     "text": [
      "Epoch 1/100\n",
      "400/400 [==============================] - 6s 7ms/step - loss: 13.1038 - accuracy: 0.5026 - val_loss: 0.6926 - val_accuracy: 0.5210\n",
      "Epoch 2/100\n",
      "400/400 [==============================] - 2s 5ms/step - loss: 0.9936 - accuracy: 0.5170 - val_loss: 0.6924 - val_accuracy: 0.5210\n",
      "Epoch 3/100\n",
      "400/400 [==============================] - 2s 5ms/step - loss: 0.7869 - accuracy: 0.5176 - val_loss: 0.6923 - val_accuracy: 0.5210\n",
      "Epoch 4/100\n",
      "400/400 [==============================] - 2s 5ms/step - loss: 0.7299 - accuracy: 0.5177 - val_loss: 0.6923 - val_accuracy: 0.5210\n",
      "Epoch 5/100\n",
      "400/400 [==============================] - 2s 5ms/step - loss: 0.7240 - accuracy: 0.5179 - val_loss: 0.6923 - val_accuracy: 0.5210\n",
      "Epoch 6/100\n",
      "400/400 [==============================] - 2s 5ms/step - loss: 0.7087 - accuracy: 0.5183 - val_loss: 0.6923 - val_accuracy: 0.5210\n",
      "Epoch 7/100\n",
      "400/400 [==============================] - 2s 5ms/step - loss: 0.7083 - accuracy: 0.5181 - val_loss: 0.6923 - val_accuracy: 0.5210\n",
      "Epoch 8/100\n",
      "400/400 [==============================] - 2s 5ms/step - loss: 0.7011 - accuracy: 0.5182 - val_loss: 0.6923 - val_accuracy: 0.5210\n",
      "Epoch 9/100\n",
      "400/400 [==============================] - 2s 5ms/step - loss: 0.6978 - accuracy: 0.5182 - val_loss: 0.6923 - val_accuracy: 0.5210\n",
      "Epoch 10/100\n",
      "400/400 [==============================] - 2s 5ms/step - loss: 0.6968 - accuracy: 0.5183 - val_loss: 0.6923 - val_accuracy: 0.5210\n",
      "Epoch 11/100\n",
      "400/400 [==============================] - 2s 5ms/step - loss: 0.7018 - accuracy: 0.5183 - val_loss: 0.6923 - val_accuracy: 0.5210\n",
      "Epoch 12/100\n",
      "400/400 [==============================] - 2s 5ms/step - loss: 0.7019 - accuracy: 0.5185 - val_loss: 0.6923 - val_accuracy: 0.5210\n",
      "Epoch 13/100\n",
      "400/400 [==============================] - 2s 5ms/step - loss: 0.6971 - accuracy: 0.5184 - val_loss: 0.6923 - val_accuracy: 0.5210\n",
      "Epoch 14/100\n",
      "400/400 [==============================] - 2s 5ms/step - loss: 0.6934 - accuracy: 0.5183 - val_loss: 0.6923 - val_accuracy: 0.5210\n",
      "Epoch 15/100\n",
      "400/400 [==============================] - 2s 5ms/step - loss: 0.6986 - accuracy: 0.5180 - val_loss: 0.6923 - val_accuracy: 0.5210\n",
      "Epoch 16/100\n",
      "400/400 [==============================] - 2s 5ms/step - loss: 0.6954 - accuracy: 0.5184 - val_loss: 0.6923 - val_accuracy: 0.5210\n",
      "Epoch 17/100\n",
      "400/400 [==============================] - 2s 5ms/step - loss: 0.6943 - accuracy: 0.5182 - val_loss: 0.6923 - val_accuracy: 0.5210\n",
      "Epoch 18/100\n",
      "400/400 [==============================] - 2s 5ms/step - loss: 0.6934 - accuracy: 0.5183 - val_loss: 0.6923 - val_accuracy: 0.5210\n",
      "Epoch 19/100\n",
      "400/400 [==============================] - 2s 5ms/step - loss: 0.6940 - accuracy: 0.5183 - val_loss: 0.6923 - val_accuracy: 0.5210\n",
      "Epoch 20/100\n",
      "400/400 [==============================] - 2s 5ms/step - loss: 0.6928 - accuracy: 0.5183 - val_loss: 0.6923 - val_accuracy: 0.5210\n",
      "Epoch 21/100\n",
      "400/400 [==============================] - 2s 5ms/step - loss: 0.6925 - accuracy: 0.5184 - val_loss: 0.6923 - val_accuracy: 0.5210\n",
      "Epoch 22/100\n",
      "400/400 [==============================] - 2s 5ms/step - loss: 0.6925 - accuracy: 0.5183 - val_loss: 0.6923 - val_accuracy: 0.5210\n",
      "Epoch 23/100\n",
      "400/400 [==============================] - 2s 5ms/step - loss: 0.6932 - accuracy: 0.5183 - val_loss: 0.6923 - val_accuracy: 0.5210\n",
      "Epoch 24/100\n",
      "400/400 [==============================] - 2s 6ms/step - loss: 0.6932 - accuracy: 0.5182 - val_loss: 0.6923 - val_accuracy: 0.5210\n",
      "Epoch 25/100\n",
      "400/400 [==============================] - 2s 5ms/step - loss: 0.6963 - accuracy: 0.5183 - val_loss: 0.6923 - val_accuracy: 0.5210\n",
      "Epoch 26/100\n",
      "400/400 [==============================] - 2s 6ms/step - loss: 0.6926 - accuracy: 0.5183 - val_loss: 0.6923 - val_accuracy: 0.5210\n",
      "Epoch 27/100\n",
      "400/400 [==============================] - 2s 6ms/step - loss: 0.6926 - accuracy: 0.5183 - val_loss: 0.6923 - val_accuracy: 0.5210\n",
      "Epoch 28/100\n",
      "400/400 [==============================] - 2s 5ms/step - loss: 0.6926 - accuracy: 0.5184 - val_loss: 0.6923 - val_accuracy: 0.5210\n",
      "Epoch 29/100\n",
      "400/400 [==============================] - 2s 5ms/step - loss: 0.6926 - accuracy: 0.5184 - val_loss: 0.6923 - val_accuracy: 0.5210\n",
      "Epoch 30/100\n",
      "400/400 [==============================] - 3s 6ms/step - loss: 0.6925 - accuracy: 0.5184 - val_loss: 0.6923 - val_accuracy: 0.5210\n",
      "Epoch 31/100\n",
      "400/400 [==============================] - 2s 6ms/step - loss: 0.6955 - accuracy: 0.5183 - val_loss: 0.6923 - val_accuracy: 0.5210\n",
      "Epoch 32/100\n",
      "400/400 [==============================] - 2s 6ms/step - loss: 0.6928 - accuracy: 0.5183 - val_loss: 0.6923 - val_accuracy: 0.5210\n",
      "Epoch 33/100\n",
      "400/400 [==============================] - 2s 5ms/step - loss: 0.6936 - accuracy: 0.5183 - val_loss: 0.6923 - val_accuracy: 0.5210\n",
      "Epoch 34/100\n",
      "400/400 [==============================] - 2s 5ms/step - loss: 0.6951 - accuracy: 0.5183 - val_loss: 0.6923 - val_accuracy: 0.5210\n",
      "Epoch 35/100\n",
      "400/400 [==============================] - 2s 5ms/step - loss: 0.6925 - accuracy: 0.5183 - val_loss: 0.6923 - val_accuracy: 0.5210\n",
      "Epoch 36/100\n",
      "400/400 [==============================] - 2s 5ms/step - loss: 0.6925 - accuracy: 0.5183 - val_loss: 0.6923 - val_accuracy: 0.5210\n",
      "Epoch 37/100\n",
      "400/400 [==============================] - 2s 5ms/step - loss: 0.6925 - accuracy: 0.5183 - val_loss: 0.6923 - val_accuracy: 0.5210\n",
      "Epoch 38/100\n",
      "400/400 [==============================] - 2s 5ms/step - loss: 0.6925 - accuracy: 0.5183 - val_loss: 0.6923 - val_accuracy: 0.5210\n",
      "Epoch 39/100\n",
      "400/400 [==============================] - 2s 6ms/step - loss: 0.6931 - accuracy: 0.5183 - val_loss: 0.6923 - val_accuracy: 0.5210\n",
      "Epoch 40/100\n",
      "400/400 [==============================] - 2s 5ms/step - loss: 0.6925 - accuracy: 0.5183 - val_loss: 0.6923 - val_accuracy: 0.5210\n",
      "Epoch 41/100\n",
      "400/400 [==============================] - 2s 5ms/step - loss: 0.6925 - accuracy: 0.5184 - val_loss: 0.6923 - val_accuracy: 0.5210\n",
      "Epoch 42/100\n",
      "400/400 [==============================] - 2s 5ms/step - loss: 0.6925 - accuracy: 0.5183 - val_loss: 0.6923 - val_accuracy: 0.5210\n",
      "Epoch 43/100\n",
      "400/400 [==============================] - 2s 5ms/step - loss: 0.6942 - accuracy: 0.5182 - val_loss: 0.6923 - val_accuracy: 0.5210\n",
      "Epoch 44/100\n",
      "400/400 [==============================] - 2s 6ms/step - loss: 0.6926 - accuracy: 0.5183 - val_loss: 0.6923 - val_accuracy: 0.5210\n",
      "Epoch 45/100\n",
      "400/400 [==============================] - 2s 5ms/step - loss: 0.6925 - accuracy: 0.5183 - val_loss: 0.6923 - val_accuracy: 0.5210\n",
      "Epoch 46/100\n",
      "400/400 [==============================] - 2s 5ms/step - loss: 0.7006 - accuracy: 0.5184 - val_loss: 0.6923 - val_accuracy: 0.5210\n",
      "Epoch 47/100\n",
      "400/400 [==============================] - 2s 5ms/step - loss: 0.6938 - accuracy: 0.5183 - val_loss: 0.6923 - val_accuracy: 0.5210\n",
      "Epoch 48/100\n",
      "400/400 [==============================] - 2s 5ms/step - loss: 0.6925 - accuracy: 0.5183 - val_loss: 0.6923 - val_accuracy: 0.5210\n",
      "Epoch 49/100\n",
      "400/400 [==============================] - 2s 6ms/step - loss: 0.6925 - accuracy: 0.5183 - val_loss: 0.6923 - val_accuracy: 0.5210\n",
      "Epoch 50/100\n",
      "400/400 [==============================] - 2s 5ms/step - loss: 0.6925 - accuracy: 0.5183 - val_loss: 0.6923 - val_accuracy: 0.5210\n",
      "Epoch 51/100\n",
      "400/400 [==============================] - 2s 6ms/step - loss: 0.6925 - accuracy: 0.5183 - val_loss: 0.6923 - val_accuracy: 0.5210\n",
      "Epoch 52/100\n",
      "400/400 [==============================] - 2s 5ms/step - loss: 0.6928 - accuracy: 0.5183 - val_loss: 0.6923 - val_accuracy: 0.5210\n",
      "Epoch 53/100\n",
      "400/400 [==============================] - 2s 6ms/step - loss: 0.6925 - accuracy: 0.5183 - val_loss: 0.6923 - val_accuracy: 0.5210\n",
      "Epoch 54/100\n",
      "400/400 [==============================] - 2s 6ms/step - loss: 0.6925 - accuracy: 0.5183 - val_loss: 0.6923 - val_accuracy: 0.5210\n",
      "Epoch 55/100\n",
      "400/400 [==============================] - 2s 5ms/step - loss: 0.6926 - accuracy: 0.5184 - val_loss: 0.6923 - val_accuracy: 0.5210\n",
      "Epoch 56/100\n",
      "400/400 [==============================] - 2s 6ms/step - loss: 0.6925 - accuracy: 0.5183 - val_loss: 0.6923 - val_accuracy: 0.5210\n",
      "Epoch 57/100\n",
      "400/400 [==============================] - 3s 6ms/step - loss: 0.6925 - accuracy: 0.5183 - val_loss: 0.6923 - val_accuracy: 0.5210\n"
     ]
    },
    {
     "name": "stdout",
     "output_type": "stream",
     "text": [
      "Epoch 58/100\n",
      "400/400 [==============================] - 2s 6ms/step - loss: 0.6925 - accuracy: 0.5183 - val_loss: 0.6923 - val_accuracy: 0.5210\n",
      "Epoch 59/100\n",
      "400/400 [==============================] - 2s 6ms/step - loss: 0.6925 - accuracy: 0.5183 - val_loss: 0.6923 - val_accuracy: 0.5210\n",
      "Epoch 60/100\n",
      "400/400 [==============================] - 3s 6ms/step - loss: 0.6925 - accuracy: 0.5183 - val_loss: 0.6923 - val_accuracy: 0.5210\n",
      "Epoch 61/100\n",
      "400/400 [==============================] - 2s 6ms/step - loss: 0.6925 - accuracy: 0.5183 - val_loss: 0.6923 - val_accuracy: 0.5210\n",
      "Epoch 62/100\n",
      "400/400 [==============================] - 2s 6ms/step - loss: 0.6925 - accuracy: 0.5183 - val_loss: 0.6923 - val_accuracy: 0.5210\n",
      "Epoch 63/100\n",
      "400/400 [==============================] - 3s 6ms/step - loss: 0.6925 - accuracy: 0.5183 - val_loss: 0.6923 - val_accuracy: 0.5210\n",
      "Epoch 64/100\n",
      "400/400 [==============================] - 2s 6ms/step - loss: 0.6927 - accuracy: 0.5183 - val_loss: 0.6923 - val_accuracy: 0.5210\n",
      "Epoch 65/100\n",
      "400/400 [==============================] - 3s 6ms/step - loss: 0.6925 - accuracy: 0.5183 - val_loss: 0.6923 - val_accuracy: 0.5210\n",
      "Epoch 66/100\n",
      "400/400 [==============================] - 2s 5ms/step - loss: 0.6925 - accuracy: 0.5183 - val_loss: 0.6923 - val_accuracy: 0.5210\n",
      "Epoch 67/100\n",
      "400/400 [==============================] - 2s 5ms/step - loss: 0.6925 - accuracy: 0.5183 - val_loss: 0.6923 - val_accuracy: 0.5210\n",
      "Epoch 68/100\n",
      "400/400 [==============================] - 2s 6ms/step - loss: 0.6925 - accuracy: 0.5184 - val_loss: 0.6923 - val_accuracy: 0.5210\n",
      "Epoch 69/100\n",
      "400/400 [==============================] - 2s 5ms/step - loss: 0.6925 - accuracy: 0.5183 - val_loss: 0.6923 - val_accuracy: 0.5210\n",
      "Epoch 70/100\n",
      "400/400 [==============================] - 2s 5ms/step - loss: 0.6925 - accuracy: 0.5184 - val_loss: 0.6923 - val_accuracy: 0.5210\n",
      "Epoch 71/100\n",
      "400/400 [==============================] - 2s 6ms/step - loss: 0.6982 - accuracy: 0.5183 - val_loss: 0.6923 - val_accuracy: 0.5210\n",
      "Epoch 72/100\n",
      "400/400 [==============================] - 2s 5ms/step - loss: 0.6925 - accuracy: 0.5183 - val_loss: 0.6923 - val_accuracy: 0.5210\n",
      "Epoch 73/100\n",
      "400/400 [==============================] - 2s 5ms/step - loss: 0.6925 - accuracy: 0.5183 - val_loss: 0.6923 - val_accuracy: 0.5210\n",
      "Epoch 74/100\n",
      "400/400 [==============================] - 2s 6ms/step - loss: 0.6925 - accuracy: 0.5183 - val_loss: 0.6923 - val_accuracy: 0.5210\n",
      "Epoch 75/100\n",
      "400/400 [==============================] - 2s 5ms/step - loss: 0.6925 - accuracy: 0.5183 - val_loss: 0.6923 - val_accuracy: 0.5210\n",
      "Epoch 76/100\n",
      "400/400 [==============================] - 2s 5ms/step - loss: 0.6925 - accuracy: 0.5183 - val_loss: 0.6923 - val_accuracy: 0.5210\n",
      "Epoch 77/100\n",
      "400/400 [==============================] - 2s 5ms/step - loss: 0.6925 - accuracy: 0.5183 - val_loss: 0.6923 - val_accuracy: 0.5210\n",
      "Epoch 78/100\n",
      "400/400 [==============================] - 2s 5ms/step - loss: 0.6925 - accuracy: 0.5183 - val_loss: 0.6923 - val_accuracy: 0.5210\n",
      "Epoch 79/100\n",
      "400/400 [==============================] - 2s 5ms/step - loss: 0.6925 - accuracy: 0.5183 - val_loss: 0.6923 - val_accuracy: 0.5210\n",
      "Epoch 80/100\n",
      "400/400 [==============================] - 2s 5ms/step - loss: 0.6925 - accuracy: 0.5183 - val_loss: 0.6923 - val_accuracy: 0.5210\n",
      "Epoch 81/100\n",
      "400/400 [==============================] - 2s 6ms/step - loss: 0.6925 - accuracy: 0.5183 - val_loss: 0.6923 - val_accuracy: 0.5210\n",
      "Epoch 82/100\n",
      "400/400 [==============================] - 2s 5ms/step - loss: 0.6925 - accuracy: 0.5183 - val_loss: 0.6923 - val_accuracy: 0.5210\n",
      "Epoch 83/100\n",
      "400/400 [==============================] - 2s 6ms/step - loss: 0.6925 - accuracy: 0.5183 - val_loss: 0.6923 - val_accuracy: 0.5210\n",
      "Epoch 84/100\n",
      "400/400 [==============================] - 2s 6ms/step - loss: 0.6925 - accuracy: 0.5183 - val_loss: 0.6923 - val_accuracy: 0.5210\n",
      "Epoch 85/100\n",
      "400/400 [==============================] - 2s 5ms/step - loss: 0.6925 - accuracy: 0.5183 - val_loss: 0.6923 - val_accuracy: 0.5210\n",
      "Epoch 86/100\n",
      "400/400 [==============================] - 2s 5ms/step - loss: 0.6925 - accuracy: 0.5183 - val_loss: 0.6923 - val_accuracy: 0.5210\n",
      "Epoch 87/100\n",
      "400/400 [==============================] - 2s 5ms/step - loss: 0.6925 - accuracy: 0.5183 - val_loss: 0.6923 - val_accuracy: 0.5210\n",
      "Epoch 88/100\n",
      "400/400 [==============================] - 2s 5ms/step - loss: 0.6925 - accuracy: 0.5183 - val_loss: 0.6923 - val_accuracy: 0.5210\n",
      "Epoch 89/100\n",
      "400/400 [==============================] - 2s 6ms/step - loss: 0.6925 - accuracy: 0.5183 - val_loss: 0.6923 - val_accuracy: 0.5210\n",
      "Epoch 90/100\n",
      "400/400 [==============================] - 2s 6ms/step - loss: 0.6925 - accuracy: 0.5183 - val_loss: 0.6923 - val_accuracy: 0.5210\n",
      "Epoch 91/100\n",
      "400/400 [==============================] - 2s 6ms/step - loss: 0.6925 - accuracy: 0.5183 - val_loss: 0.6923 - val_accuracy: 0.5210\n",
      "Epoch 92/100\n",
      "400/400 [==============================] - 2s 5ms/step - loss: 0.6925 - accuracy: 0.5183 - val_loss: 0.6923 - val_accuracy: 0.5210\n",
      "Epoch 93/100\n",
      "400/400 [==============================] - 2s 6ms/step - loss: 0.6925 - accuracy: 0.5183 - val_loss: 0.6923 - val_accuracy: 0.5210\n",
      "Epoch 94/100\n",
      "400/400 [==============================] - 2s 5ms/step - loss: 0.6925 - accuracy: 0.5183 - val_loss: 0.6923 - val_accuracy: 0.5210\n",
      "Epoch 95/100\n",
      "400/400 [==============================] - 2s 6ms/step - loss: 0.6925 - accuracy: 0.5183 - val_loss: 0.6923 - val_accuracy: 0.5210\n",
      "Epoch 96/100\n",
      "400/400 [==============================] - 2s 6ms/step - loss: 0.6925 - accuracy: 0.5183 - val_loss: 0.6923 - val_accuracy: 0.5210\n",
      "Epoch 97/100\n",
      "400/400 [==============================] - 2s 5ms/step - loss: 0.6925 - accuracy: 0.5183 - val_loss: 0.6923 - val_accuracy: 0.5210\n",
      "Epoch 98/100\n",
      "400/400 [==============================] - 2s 5ms/step - loss: 0.6925 - accuracy: 0.5183 - val_loss: 0.6923 - val_accuracy: 0.5210\n",
      "Epoch 99/100\n",
      "400/400 [==============================] - 2s 5ms/step - loss: 0.6925 - accuracy: 0.5183 - val_loss: 0.6923 - val_accuracy: 0.5210\n",
      "Epoch 100/100\n",
      "400/400 [==============================] - 2s 5ms/step - loss: 0.6925 - accuracy: 0.5183 - val_loss: 0.6923 - val_accuracy: 0.5210\n"
     ]
    },
    {
     "data": {
      "text/plain": [
       "<keras.src.callbacks.History at 0x21c24d2d8a0>"
      ]
     },
     "execution_count": 43,
     "metadata": {},
     "output_type": "execute_result"
    }
   ],
   "source": [
    "import tensorflow as tf\n",
    "from tensorflow.keras.models import Sequential\n",
    "from tensorflow.keras.layers import Dense, Dropout\n",
    "\n",
    "# Define the model\n",
    "model = Sequential([\n",
    "    Dense(144, activation='relu', input_dim=X_train.shape[1]),\n",
    "    Dense(72, activation='relu'),\n",
    "    Dropout(0.2),\n",
    "    Dense(36, activation='relu'),\n",
    "    Dropout(0.3),\n",
    "    Dense(9, activation='relu'),\n",
    "    Dropout(0.3),\n",
    "    Dense(1, activation='sigmoid')\n",
    "])\n",
    "\n",
    "model.compile(optimizer='adam', loss='binary_crossentropy', metrics=['accuracy'])\n",
    "model.fit(X_train, y_train, epochs=100, batch_size=100, validation_data=(X_test, y_test))"
   ]
  },
  {
   "cell_type": "code",
   "execution_count": 44,
   "id": "ca3fe7b2",
   "metadata": {},
   "outputs": [],
   "source": [
    "from sklearn.metrics import precision_recall_curve, PrecisionRecallDisplay,accuracy_score,recall_score,precision_score,f1_score"
   ]
  },
  {
   "cell_type": "code",
   "execution_count": 50,
   "id": "ea134e47",
   "metadata": {},
   "outputs": [
    {
     "name": "stdout",
     "output_type": "stream",
     "text": [
      "312/312 [==============================] - 0s 619us/step\n"
     ]
    }
   ],
   "source": [
    "y_pred = model.predict(X_test)\n",
    "y_pred = np.round(y_pred)"
   ]
  },
  {
   "cell_type": "code",
   "execution_count": 52,
   "id": "3fe728e3",
   "metadata": {},
   "outputs": [
    {
     "name": "stdout",
     "output_type": "stream",
     "text": [
      "Accuracy: 0.5210463018641011 \n",
      "Precision: 0.5210463018641011 \n",
      "Recall: 1.0 \n",
      "F1-Score: 0.6851156355010872\n"
     ]
    },
    {
     "data": {
      "text/plain": [
       "<sklearn.metrics._plot.confusion_matrix.ConfusionMatrixDisplay at 0x21c25b45510>"
      ]
     },
     "execution_count": 52,
     "metadata": {},
     "output_type": "execute_result"
    },
    {
     "data": {
      "image/png": "[encoded data removed]",
      "text/plain": [
       "<Figure size 432x288 with 2 Axes>"
      ]
     },
     "metadata": {
      "needs_background": "light"
     },
     "output_type": "display_data"
    }
   ],
   "source": [
    "accuracy = accuracy_score(y_test, y_pred)\n",
    "precision = precision_score(y_test, y_pred)\n",
    "recall = recall_score(y_test, y_pred)\n",
    "# f1_score = f1_score(y_test,y_pred)\n",
    "conf_matrix = confusion_matrix(y_test, y_pred)\n",
    "conf_matrix_disp = ConfusionMatrixDisplay(conf_matrix)\n",
    "print(\"Accuracy:\", accuracy,\"\\nPrecision:\", precision,\"\\nRecall:\", recall,\"\\nF1-Score:\", f1_score)\n",
    "conf_matrix_disp.plot()"
   ]
  },
  {
   "cell_type": "markdown",
   "id": "f0901c15",
   "metadata": {},
   "source": [
    "# Try Using GridSearchCV or RandomizedSearchCV"
   ]
  },
  {
   "cell_type": "code",
   "execution_count": 35,
   "id": "975ae4d3",
   "metadata": {},
   "outputs": [],
   "source": [
    "from sklearn.model_selection import RandomizedSearchCV"
   ]
  },
  {
   "cell_type": "code",
   "execution_count": 47,
   "id": "3df1d247",
   "metadata": {},
   "outputs": [],
   "source": [
    "param_grid = {'C': [0.1, 1, 10, 100, 0.01], \n",
    "              'gamma': [1, 0.1, 0.01, 0.001, 0.0001],\n",
    "              'kernel': ['rbf',\"linear\"]} "
   ]
  },
  {
   "cell_type": "code",
   "execution_count": 37,
   "id": "b8956ab7",
   "metadata": {},
   "outputs": [],
   "source": [
    "grid_search = RandomizedSearchCV(estimator=SVC(kernel='linear'),param_distributions=param_grid,cv=5,n_jobs=-1,verbose=2)"
   ]
  },
  {
   "cell_type": "code",
   "execution_count": 49,
   "id": "32b47114",
   "metadata": {},
   "outputs": [
    {
     "ename": "NameError",
     "evalue": "name 'grid_search' is not defined",
     "output_type": "error",
     "traceback": [
      "\u001b[1;31m---------------------------------------------------------------------------\u001b[0m",
      "\u001b[1;31mNameError\u001b[0m                                 Traceback (most recent call last)",
      "File \u001b[1;32m<timed exec>:1\u001b[0m, in \u001b[0;36m<module>\u001b[1;34m\u001b[0m\n",
      "\u001b[1;31mNameError\u001b[0m: name 'grid_search' is not defined"
     ]
    }
   ],
   "source": [
    "%%time\n",
    "\n",
    "grid_search.fit(X_train,y_train)\n",
    "\n",
    "best_param = grid_search.best_params_\n",
    "best_rf = grid_search.best_estimator_\n",
    "\n",
    "print(best_param,best_rf)"
   ]
  },
  {
   "cell_type": "code",
   "execution_count": 227,
   "id": "49c64134",
   "metadata": {},
   "outputs": [],
   "source": [
    "file_name = \"Dota_2_Prediction_Model_FNN.sav\"\n",
    "pickle.dump(rf, open(file_name,\"wb\"))"
   ]
  },
  {
   "cell_type": "code",
   "execution_count": 198,
   "id": "a30bfeed",
   "metadata": {},
   "outputs": [
    {
     "name": "stdout",
     "output_type": "stream",
     "text": [
      "0.5252555622369213\n"
     ]
    }
   ],
   "source": [
    "loaded_model = pickle.load(open(file_name, 'rb'))\n",
    "result = loaded_model.score(X_test, y_test)\n",
    "print(result)"
   ]
  },
  {
   "cell_type": "markdown",
   "id": "15bd7dff",
   "metadata": {},
   "source": [
    "# Testing"
   ]
  },
  {
   "cell_type": "code",
   "execution_count": 28,
   "id": "470c4c3d",
   "metadata": {},
   "outputs": [],
   "source": [
    "# pd.read_csv(\"Data/test_player.csv\")"
   ]
  },
  {
   "cell_type": "code",
   "execution_count": 200,
   "id": "2705e069",
   "metadata": {},
   "outputs": [],
   "source": [
    "y_pred = loaded_model.predict(X_test)"
   ]
  },
  {
   "cell_type": "code",
   "execution_count": 201,
   "id": "db7814bd",
   "metadata": {},
   "outputs": [
    {
     "data": {
      "text/plain": [
       "array([1, 1, 1, ..., 1, 1, 1], dtype=int64)"
      ]
     },
     "execution_count": 201,
     "metadata": {},
     "output_type": "execute_result"
    }
   ],
   "source": [
    "y_pred"
   ]
  },
  {
   "cell_type": "code",
   "execution_count": 202,
   "id": "d42d0906",
   "metadata": {},
   "outputs": [],
   "source": [
    "from sklearn.metrics import accuracy_score, confusion_matrix, precision_score, recall_score, ConfusionMatrixDisplay"
   ]
  },
  {
   "cell_type": "code",
   "execution_count": 204,
   "id": "436aae21",
   "metadata": {},
   "outputs": [
    {
     "name": "stdout",
     "output_type": "stream",
     "text": [
      "Accuracy: 0.5252555622369213 \n",
      "Precision: 0.5273372781065089 \n",
      "Recall: 0.857087901519523\n"
     ]
    },
    {
     "data": {
      "text/plain": [
       "<sklearn.metrics._plot.confusion_matrix.ConfusionMatrixDisplay at 0x27eaf531c90>"
      ]
     },
     "execution_count": 204,
     "metadata": {},
     "output_type": "execute_result"
    },
    {
     "data": {
      "image/png": "[encoded data removed]",
      "text/plain": [
       "<Figure size 432x288 with 2 Axes>"
      ]
     },
     "metadata": {
      "needs_background": "light"
     },
     "output_type": "display_data"
    }
   ],
   "source": [
    "accuracy = accuracy_score(y_test, y_pred)\n",
    "precision = precision_score(y_test, y_pred)\n",
    "recall = recall_score(y_test, y_pred)\n",
    "conf_matrix = confusion_matrix(y_test, y_pred)\n",
    "conf_matrix_disp = ConfusionMatrixDisplay(conf_matrix)\n",
    "print(\"Accuracy:\", accuracy,\"\\nPrecision:\", precision,\"\\nRecall:\", recall)\n",
    "conf_matrix_disp.plot()"
   ]
  },
  {
   "cell_type": "markdown",
   "id": "79be4f65",
   "metadata": {},
   "source": [
    "# Random Testing"
   ]
  },
  {
   "cell_type": "code",
   "execution_count": 29,
   "id": "c1d4a782",
   "metadata": {},
   "outputs": [],
   "source": [
    "hero_name = pd.read_csv(\"Data/hero_names.csv\")"
   ]
  },
  {
   "cell_type": "code",
   "execution_count": 30,
   "id": "954cd2d6",
   "metadata": {},
   "outputs": [
    {
     "data": {
      "text/html": [
       "<div>\n",
       "<style scoped>\n",
       "    .dataframe tbody tr th:only-of-type {\n",
       "        vertical-align: middle;\n",
       "    }\n",
       "\n",
       "    .dataframe tbody tr th {\n",
       "        vertical-align: top;\n",
       "    }\n",
       "\n",
       "    .dataframe thead th {\n",
       "        text-align: right;\n",
       "    }\n",
       "</style>\n",
       "<table border=\"1\" class=\"dataframe\">\n",
       "  <thead>\n",
       "    <tr style=\"text-align: right;\">\n",
       "      <th></th>\n",
       "      <th>name</th>\n",
       "      <th>hero_id</th>\n",
       "      <th>localized_name</th>\n",
       "    </tr>\n",
       "  </thead>\n",
       "  <tbody>\n",
       "    <tr>\n",
       "      <th>0</th>\n",
       "      <td>npc_dota_hero_antimage</td>\n",
       "      <td>1</td>\n",
       "      <td>Anti-Mage</td>\n",
       "    </tr>\n",
       "    <tr>\n",
       "      <th>1</th>\n",
       "      <td>npc_dota_hero_axe</td>\n",
       "      <td>2</td>\n",
       "      <td>Axe</td>\n",
       "    </tr>\n",
       "    <tr>\n",
       "      <th>2</th>\n",
       "      <td>npc_dota_hero_bane</td>\n",
       "      <td>3</td>\n",
       "      <td>Bane</td>\n",
       "    </tr>\n",
       "    <tr>\n",
       "      <th>3</th>\n",
       "      <td>npc_dota_hero_bloodseeker</td>\n",
       "      <td>4</td>\n",
       "      <td>Bloodseeker</td>\n",
       "    </tr>\n",
       "    <tr>\n",
       "      <th>4</th>\n",
       "      <td>npc_dota_hero_crystal_maiden</td>\n",
       "      <td>5</td>\n",
       "      <td>Crystal Maiden</td>\n",
       "    </tr>\n",
       "    <tr>\n",
       "      <th>...</th>\n",
       "      <td>...</td>\n",
       "      <td>...</td>\n",
       "      <td>...</td>\n",
       "    </tr>\n",
       "    <tr>\n",
       "      <th>107</th>\n",
       "      <td>npc_dota_hero_terrorblade</td>\n",
       "      <td>109</td>\n",
       "      <td>Terrorblade</td>\n",
       "    </tr>\n",
       "    <tr>\n",
       "      <th>108</th>\n",
       "      <td>npc_dota_hero_phoenix</td>\n",
       "      <td>110</td>\n",
       "      <td>Phoenix</td>\n",
       "    </tr>\n",
       "    <tr>\n",
       "      <th>109</th>\n",
       "      <td>npc_dota_hero_oracle</td>\n",
       "      <td>111</td>\n",
       "      <td>Oracle</td>\n",
       "    </tr>\n",
       "    <tr>\n",
       "      <th>110</th>\n",
       "      <td>npc_dota_hero_winter_wyvern</td>\n",
       "      <td>112</td>\n",
       "      <td>Winter Wyvern</td>\n",
       "    </tr>\n",
       "    <tr>\n",
       "      <th>111</th>\n",
       "      <td>npc_dota_hero_arc_warden</td>\n",
       "      <td>113</td>\n",
       "      <td>Arc Warden</td>\n",
       "    </tr>\n",
       "  </tbody>\n",
       "</table>\n",
       "<p>112 rows × 3 columns</p>\n",
       "</div>"
      ],
      "text/plain": [
       "                             name  hero_id  localized_name\n",
       "0          npc_dota_hero_antimage        1       Anti-Mage\n",
       "1               npc_dota_hero_axe        2             Axe\n",
       "2              npc_dota_hero_bane        3            Bane\n",
       "3       npc_dota_hero_bloodseeker        4     Bloodseeker\n",
       "4    npc_dota_hero_crystal_maiden        5  Crystal Maiden\n",
       "..                            ...      ...             ...\n",
       "107     npc_dota_hero_terrorblade      109     Terrorblade\n",
       "108         npc_dota_hero_phoenix      110         Phoenix\n",
       "109          npc_dota_hero_oracle      111          Oracle\n",
       "110   npc_dota_hero_winter_wyvern      112   Winter Wyvern\n",
       "111      npc_dota_hero_arc_warden      113      Arc Warden\n",
       "\n",
       "[112 rows x 3 columns]"
      ]
     },
     "execution_count": 30,
     "metadata": {},
     "output_type": "execute_result"
    }
   ],
   "source": [
    "hero_name"
   ]
  },
  {
   "cell_type": "code",
   "execution_count": 136,
   "id": "727b2f12",
   "metadata": {},
   "outputs": [
    {
     "name": "stderr",
     "output_type": "stream",
     "text": [
      "100%|█████████████████████████████████████████████████████████████████████████████████| 10/10 [00:00<00:00, 229.21it/s]"
     ]
    },
    {
     "name": "stdout",
     "output_type": "stream",
     "text": [
      "This is using RandomForestClassifier(max_depth=2, max_features='log2', min_samples_leaf=2)\n",
      "Accuracy: 0.5216476247745039 \n",
      "Precision: 0.5213898373167303 \n",
      "Recall: 0.9986535872283131 \n",
      "F1-Score: 0.6850959952497195 \n",
      "\n",
      "Radiant won!\n",
      "\n",
      "With heroes in radiant :\n",
      "Lina\n",
      "Earthshaker\n",
      "Disruptor\n",
      "Queen of Pain\n",
      "Tiny\n",
      "\n",
      "versus dire heroes :\n",
      "Slardar\n",
      "Omniknight\n",
      "Jakiro\n",
      "Viper\n",
      "Axe\n",
      "CPU times: total: 93.8 ms\n",
      "Wall time: 89.1 ms\n"
     ]
    },
    {
     "name": "stderr",
     "output_type": "stream",
     "text": [
      "\n"
     ]
    }
   ],
   "source": [
    "%%time\n",
    "\n",
    "index_val = X_test.index\n",
    "rand_test = np.random.randint(0,len(index_val))\n",
    "\n",
    "df_test = X_test.loc[X_test.index[rand_test:rand_test+1]]\n",
    "\n",
    "y_pred = rf.predict(df_test)\n",
    "\n",
    "radiant = []\n",
    "dire = []\n",
    "\n",
    "hero_test = df_test[df_test.columns[10:20]]\n",
    "\n",
    "for i in tqdm(range(len(hero_test.columns))):\n",
    "    for j in range(len(hero_name)):\n",
    "        if int(hero_test[hero_test.columns[i]])==hero_name.hero_id[j]:\n",
    "            if i<5:\n",
    "                radiant.append(hero_name.localized_name[j])\n",
    "            else:\n",
    "                dire.append(hero_name.localized_name[j])\n",
    "\n",
    "print(f\"This is using {rf}\")\n",
    "print(\"Accuracy:\", accuracy,\"\\nPrecision:\", precision,\"\\nRecall:\", recall,\"\\nF1-Score:\", f1_score,\"\\n\")\n",
    "\n",
    "if y_pred[0]==True:\n",
    "    print(\"Radiant won!\\n\")\n",
    "    print(\"With heroes in radiant :\")\n",
    "    for i in radiant:\n",
    "        print(i)\n",
    "    print(\"\\nversus dire heroes :\")\n",
    "    for i in dire:\n",
    "        print(i)\n",
    "\n",
    "else:\n",
    "    print(\"Radiant lost!\\n\")\n",
    "    print(\"With heroes in radiant :\")\n",
    "    for i in radiant:\n",
    "        print(i)\n",
    "    print(\"\\nversus dire heroes :\")\n",
    "    for i in dire:\n",
    "        print(i)\n"
   ]
  },
  {
   "cell_type": "code",
   "execution_count": null,
   "id": "d0f9270c",
   "metadata": {},
   "outputs": [],
   "source": []
  }
 ],
 "metadata": {
  "kernelspec": {
   "display_name": "Python [conda env:machinelearning]",
   "language": "python",
   "name": "conda-env-machinelearning-py"
  },
  "language_info": {
   "codemirror_mode": {
    "name": "ipython",
    "version": 3
   },
   "file_extension": ".py",
   "mimetype": "text/x-python",
   "name": "python",
   "nbconvert_exporter": "python",
   "pygments_lexer": "ipython3",
   "version": "3.10.4"
  }
 },
 "nbformat": 4,
 "nbformat_minor": 5
}
